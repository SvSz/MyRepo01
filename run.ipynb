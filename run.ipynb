{
 "cells": [
  {
   "cell_type": "code",
   "execution_count": 15,
   "metadata": {
    "collapsed": true,
    "pycharm": {
     "name": "#%%\n"
    }
   },
   "outputs": [
    {
     "name": "stdout",
     "output_type": "stream",
     "text": [
      "Active Tensorflow Version: 1.15.0\n"
     ]
    }
   ],
   "source": [
    "import tensorflow as tf\n",
    "\n",
    "\n",
    "print('Active Tensorflow Version:', tf.__version__)"
   ]
  },
  {
   "cell_type": "code",
   "execution_count": 16,
   "outputs": [
    {
     "name": "stdout",
     "output_type": "stream",
     "text": [
      "PhysicalDevice(name='/physical_device:GPU:0', device_type='GPU')\n",
      "Num GPUs Available:  1\n"
     ]
    },
    {
     "name": "stderr",
     "output_type": "stream",
     "text": [
      "2022-08-11 20:03:19.332017: I tensorflow/stream_executor/platform/default/dso_loader.cc:44] Successfully opened dynamic library libcuda.so.1\n",
      "2022-08-11 20:03:19.357074: I tensorflow/stream_executor/cuda/cuda_gpu_executor.cc:983] successful NUMA node read from SysFS had negative value (-1), but there must be at least one NUMA node, so returning NUMA node zero\n",
      "2022-08-11 20:03:19.357207: I tensorflow/core/common_runtime/gpu/gpu_device.cc:1618] Found device 0 with properties: \n",
      "name: NVIDIA GeForce GTX 1050 Ti major: 6 minor: 1 memoryClockRate(GHz): 1.468\n",
      "pciBusID: 0000:01:00.0\n",
      "2022-08-11 20:03:19.357415: I tensorflow/stream_executor/platform/default/dso_loader.cc:44] Successfully opened dynamic library libcudart.so.10.0\n",
      "2022-08-11 20:03:19.358547: I tensorflow/stream_executor/platform/default/dso_loader.cc:44] Successfully opened dynamic library libcublas.so.10.0\n",
      "2022-08-11 20:03:19.359550: I tensorflow/stream_executor/platform/default/dso_loader.cc:44] Successfully opened dynamic library libcufft.so.10.0\n",
      "2022-08-11 20:03:19.359840: I tensorflow/stream_executor/platform/default/dso_loader.cc:44] Successfully opened dynamic library libcurand.so.10.0\n",
      "2022-08-11 20:03:19.361086: I tensorflow/stream_executor/platform/default/dso_loader.cc:44] Successfully opened dynamic library libcusolver.so.10.0\n",
      "2022-08-11 20:03:19.362222: I tensorflow/stream_executor/platform/default/dso_loader.cc:44] Successfully opened dynamic library libcusparse.so.10.0\n",
      "2022-08-11 20:03:19.365380: I tensorflow/stream_executor/platform/default/dso_loader.cc:44] Successfully opened dynamic library libcudnn.so.7\n",
      "2022-08-11 20:03:19.365601: I tensorflow/stream_executor/cuda/cuda_gpu_executor.cc:983] successful NUMA node read from SysFS had negative value (-1), but there must be at least one NUMA node, so returning NUMA node zero\n",
      "2022-08-11 20:03:19.365786: I tensorflow/stream_executor/cuda/cuda_gpu_executor.cc:983] successful NUMA node read from SysFS had negative value (-1), but there must be at least one NUMA node, so returning NUMA node zero\n",
      "2022-08-11 20:03:19.365898: I tensorflow/core/common_runtime/gpu/gpu_device.cc:1746] Adding visible gpu devices: 0\n"
     ]
    }
   ],
   "source": [
    "print(tf.config.experimental.list_physical_devices('GPU')[0])\n",
    "\n",
    "# Check GPU Availability\n",
    "print(\"Num GPUs Available: \", len(tf.config.experimental.list_physical_devices('GPU')))"
   ],
   "metadata": {
    "collapsed": false,
    "pycharm": {
     "name": "#%%\n"
    }
   }
  },
  {
   "cell_type": "code",
   "execution_count": 17,
   "outputs": [
    {
     "name": "stdout",
     "output_type": "stream",
     "text": [
      "\u001B[32m[2022-08-11 20:03:21 @__init__.py:79]\u001B[0m Set root logger. Unset logger with neuralgym.unset_logger().\r\n",
      "\u001B[32m[2022-08-11 20:03:21 @__init__.py:80]\u001B[0m Saving logging to file: neuralgym_logs/20220811200320970248.\r\n",
      "\u001B[32m[2022-08-11 20:03:21 @config.py:92]\u001B[0m ---------------------------------- APP CONFIG ----------------------------------\r\n",
      "\u001B[32m[2022-08-11 20:03:21 @config.py:119]\u001B[0m DATASET: land\r\n",
      "\u001B[32m[2022-08-11 20:03:21 @config.py:119]\u001B[0m RANDOM_CROP: False\r\n",
      "\u001B[32m[2022-08-11 20:03:21 @config.py:119]\u001B[0m VAL: False\r\n",
      "\u001B[32m[2022-08-11 20:03:21 @config.py:119]\u001B[0m LOG_DIR: land\r\n",
      "\u001B[32m[2022-08-11 20:03:21 @config.py:119]\u001B[0m MODEL_RESTORE: \r\n",
      "\u001B[32m[2022-08-11 20:03:21 @config.py:119]\u001B[0m GAN: wgan_gp\r\n",
      "\u001B[32m[2022-08-11 20:03:21 @config.py:119]\u001B[0m PRETRAIN_COARSE_NETWORK: False\r\n",
      "\u001B[32m[2022-08-11 20:03:21 @config.py:119]\u001B[0m GAN_LOSS_ALPHA: 0.001\r\n",
      "\u001B[32m[2022-08-11 20:03:21 @config.py:119]\u001B[0m WGAN_GP_LAMBDA: 10\r\n",
      "\u001B[32m[2022-08-11 20:03:21 @config.py:119]\u001B[0m COARSE_L1_ALPHA: 1.2\r\n",
      "\u001B[32m[2022-08-11 20:03:21 @config.py:119]\u001B[0m L1_LOSS_ALPHA: 1.2\r\n",
      "\u001B[32m[2022-08-11 20:03:21 @config.py:119]\u001B[0m AE_LOSS_ALPHA: 1.2\r\n",
      "\u001B[32m[2022-08-11 20:03:21 @config.py:119]\u001B[0m GAN_WITH_MASK: False\r\n",
      "\u001B[32m[2022-08-11 20:03:21 @config.py:119]\u001B[0m DISCOUNTED_MASK: True\r\n",
      "\u001B[32m[2022-08-11 20:03:21 @config.py:119]\u001B[0m RANDOM_SEED: False\r\n",
      "\u001B[32m[2022-08-11 20:03:21 @config.py:119]\u001B[0m PADDING: SAME\r\n",
      "\u001B[32m[2022-08-11 20:03:21 @config.py:119]\u001B[0m NUM_GPUS: 1\r\n",
      "\u001B[32m[2022-08-11 20:03:21 @config.py:119]\u001B[0m GPU_ID: -1\r\n",
      "\u001B[32m[2022-08-11 20:03:21 @config.py:119]\u001B[0m TRAIN_SPE: 10000\r\n",
      "\u001B[32m[2022-08-11 20:03:21 @config.py:119]\u001B[0m MAX_ITERS: 1000000\r\n",
      "\u001B[32m[2022-08-11 20:03:21 @config.py:119]\u001B[0m VIZ_MAX_OUT: 10\r\n",
      "\u001B[32m[2022-08-11 20:03:21 @config.py:119]\u001B[0m GRADS_SUMMARY: False\r\n",
      "\u001B[32m[2022-08-11 20:03:21 @config.py:119]\u001B[0m GRADIENT_CLIP: False\r\n",
      "\u001B[32m[2022-08-11 20:03:21 @config.py:119]\u001B[0m GRADIENT_CLIP_VALUE: 0.1\r\n",
      "\u001B[32m[2022-08-11 20:03:21 @config.py:119]\u001B[0m VAL_PSTEPS: 10000000\r\n",
      "\u001B[32m[2022-08-11 20:03:21 @config.py:111]\u001B[0m DATA_FLIST: \r\n",
      "\u001B[32m[2022-08-11 20:03:21 @config.py:119]\u001B[0m   land: ['data_flist/train_shuffled.flist', 'data_flist/validation_static_view.flist']\r\n",
      "\u001B[32m[2022-08-11 20:03:21 @config.py:119]\u001B[0m STATIC_VIEW_SIZE: 30\r\n",
      "\u001B[32m[2022-08-11 20:03:21 @config.py:119]\u001B[0m IMG_SHAPES: [256, 256, 1]\r\n",
      "\u001B[32m[2022-08-11 20:03:21 @config.py:119]\u001B[0m HEIGHT: 256\r\n",
      "\u001B[32m[2022-08-11 20:03:21 @config.py:119]\u001B[0m WIDTH: 256\r\n",
      "\u001B[32m[2022-08-11 20:03:21 @config.py:119]\u001B[0m MAX_DELTA_HEIGHT: 64\r\n",
      "\u001B[32m[2022-08-11 20:03:21 @config.py:119]\u001B[0m MAX_DELTA_WIDTH: 64\r\n",
      "\u001B[32m[2022-08-11 20:03:21 @config.py:119]\u001B[0m BATCH_SIZE: 32\r\n",
      "\u001B[32m[2022-08-11 20:03:21 @config.py:119]\u001B[0m VERTICAL_MARGIN: 0\r\n",
      "\u001B[32m[2022-08-11 20:03:21 @config.py:119]\u001B[0m HORIZONTAL_MARGIN: 0\r\n",
      "\u001B[32m[2022-08-11 20:03:21 @config.py:119]\u001B[0m AE_LOSS: True\r\n",
      "\u001B[32m[2022-08-11 20:03:21 @config.py:119]\u001B[0m L1_LOSS: True\r\n",
      "\u001B[32m[2022-08-11 20:03:21 @config.py:119]\u001B[0m GLOBAL_DCGAN_LOSS_ALPHA: 1.0\r\n",
      "\u001B[32m[2022-08-11 20:03:21 @config.py:119]\u001B[0m GLOBAL_WGAN_LOSS_ALPHA: 1.0\r\n",
      "\u001B[32m[2022-08-11 20:03:21 @config.py:119]\u001B[0m LOAD_VGG_MODEL: False\r\n",
      "\u001B[32m[2022-08-11 20:03:21 @config.py:119]\u001B[0m VGG_MODEL_FILE: data/model_zoo/vgg16.npz\r\n",
      "\u001B[32m[2022-08-11 20:03:21 @config.py:119]\u001B[0m FEATURE_LOSS: False\r\n",
      "\u001B[32m[2022-08-11 20:03:21 @config.py:119]\u001B[0m GRAMS_LOSS: False\r\n",
      "\u001B[32m[2022-08-11 20:03:21 @config.py:119]\u001B[0m TV_LOSS: False\r\n",
      "\u001B[32m[2022-08-11 20:03:21 @config.py:119]\u001B[0m TV_LOSS_ALPHA: 0.0\r\n",
      "\u001B[32m[2022-08-11 20:03:21 @config.py:119]\u001B[0m FEATURE_LOSS_ALPHA: 0.01\r\n",
      "\u001B[32m[2022-08-11 20:03:21 @config.py:119]\u001B[0m GRAMS_LOSS_ALPHA: 50\r\n",
      "\u001B[32m[2022-08-11 20:03:21 @config.py:119]\u001B[0m SPATIAL_DISCOUNTING_GAMMA: 0.9\r\n",
      "\u001B[32m[2022-08-11 20:03:21 @config.py:94]\u001B[0m --------------------------------------------------------------------------------\r\n",
      "\u001B[32m[2022-08-11 20:03:21 @dataset.py:26]\u001B[0m --------------------------------- Dataset Info ---------------------------------\r\n",
      "\u001B[32m[2022-08-11 20:03:21 @dataset.py:36]\u001B[0m file_length: 7\r\n",
      "\u001B[32m[2022-08-11 20:03:21 @dataset.py:36]\u001B[0m random: False\r\n",
      "\u001B[32m[2022-08-11 20:03:21 @dataset.py:36]\u001B[0m random_crop: False\r\n",
      "\u001B[32m[2022-08-11 20:03:21 @dataset.py:36]\u001B[0m filetype: image\r\n",
      "\u001B[32m[2022-08-11 20:03:21 @dataset.py:36]\u001B[0m shapes: [[256, 256, 1]]\r\n",
      "\u001B[32m[2022-08-11 20:03:21 @dataset.py:36]\u001B[0m dtypes: [tf.float32]\r\n",
      "\u001B[32m[2022-08-11 20:03:21 @dataset.py:36]\u001B[0m return_fnames: False\r\n",
      "\u001B[32m[2022-08-11 20:03:21 @dataset.py:36]\u001B[0m batch_phs: [<tf.Tensor 'Placeholder:0' shape=(?, 256, 256, 1) dtype=float32>]\r\n",
      "\u001B[32m[2022-08-11 20:03:21 @dataset.py:36]\u001B[0m enqueue_size: 32\r\n",
      "\u001B[32m[2022-08-11 20:03:21 @dataset.py:36]\u001B[0m queue_size: 256\r\n",
      "\u001B[32m[2022-08-11 20:03:21 @dataset.py:36]\u001B[0m nthreads: 16\r\n",
      "\u001B[32m[2022-08-11 20:03:21 @dataset.py:36]\u001B[0m fn_preprocess: None\r\n",
      "\u001B[32m[2022-08-11 20:03:21 @dataset.py:36]\u001B[0m index: 0\r\n",
      "\u001B[32m[2022-08-11 20:03:21 @dataset.py:37]\u001B[0m --------------------------------------------------------------------------------\r\n",
      "\u001B[32m[2022-08-11 20:03:24 @inpaint_model.py:169]\u001B[0m Set batch_predicted to x2.\r\n",
      "\u001B[32m[2022-08-11 20:03:24 @inpaint_ops.py:201]\u001B[0m Use spatial discounting l1 loss.\r\n",
      "\u001B[32m[2022-08-11 20:03:24 @inpaint_ops.py:201]\u001B[0m Use spatial discounting l1 loss.\r\n",
      "\u001B[32m[2022-08-11 20:03:25 @inpaint_model.py:251]\u001B[0m Set L1_LOSS_ALPHA to 1.200000\r\n",
      "\u001B[32m[2022-08-11 20:03:25 @inpaint_model.py:252]\u001B[0m Set GAN_LOSS_ALPHA to 0.001000\r\n",
      "\u001B[32m[2022-08-11 20:03:25 @inpaint_model.py:255]\u001B[0m Set AE_LOSS_ALPHA to 1.200000\r\n",
      "\u001B[32m[2022-08-11 20:03:27 @inpaint_model.py:169]\u001B[0m Set batch_predicted to x2.\r\n",
      "\u001B[32m[2022-08-11 20:03:27 @inpaint_ops.py:201]\u001B[0m Use spatial discounting l1 loss.\r\n",
      "\u001B[32m[2022-08-11 20:03:27 @inpaint_ops.py:201]\u001B[0m Use spatial discounting l1 loss.\r\n",
      "\u001B[32m[2022-08-11 20:03:28 @inpaint_model.py:251]\u001B[0m Set L1_LOSS_ALPHA to 1.200000\r\n",
      "\u001B[32m[2022-08-11 20:03:28 @inpaint_model.py:252]\u001B[0m Set GAN_LOSS_ALPHA to 0.001000\r\n",
      "\u001B[32m[2022-08-11 20:03:28 @inpaint_model.py:255]\u001B[0m Set AE_LOSS_ALPHA to 1.200000\r\n",
      "\u001B[32m[2022-08-11 20:03:28 @trainer.py:61]\u001B[0m ------------------------- Context Of Secondary Trainer -------------------------\r\n",
      "\u001B[32m[2022-08-11 20:03:28 @trainer.py:63]\u001B[0m optimizer: <tensorflow.python.training.adam.AdamOptimizer object at 0x7f72e5958c50>\r\n",
      "\u001B[32m[2022-08-11 20:03:28 @trainer.py:63]\u001B[0m var_list: [<tf.Variable 'discriminator/discriminator_local/conv1/kernel:0' shape=(5, 5, 1, 32) dtype=float32_ref>, <tf.Variable 'discriminator/discriminator_local/conv1/bias:0' shape=(32,) dtype=float32_ref>, <tf.Variable 'discriminator/discriminator_local/conv2/kernel:0' shape=(5, 5, 32, 64) dtype=float32_ref>, <tf.Variable 'discriminator/discriminator_local/conv2/bias:0' shape=(64,) dtype=float32_ref>, <tf.Variable 'discriminator/discriminator_local/conv3/kernel:0' shape=(5, 5, 64, 128) dtype=float32_ref>, <tf.Variable 'discriminator/discriminator_local/conv3/bias:0' shape=(128,) dtype=float32_ref>, <tf.Variable 'discriminator/discriminator_local/conv4/kernel:0' shape=(5, 5, 128, 256) dtype=float32_ref>, <tf.Variable 'discriminator/discriminator_local/conv4/bias:0' shape=(256,) dtype=float32_ref>, <tf.Variable 'discriminator/discriminator_global/conv1/kernel:0' shape=(5, 5, 1, 32) dtype=float32_ref>, <tf.Variable 'discriminator/discriminator_global/conv1/bias:0' shape=(32,) dtype=float32_ref>, <tf.Variable 'discriminator/discriminator_global/conv2/kernel:0' shape=(5, 5, 32, 64) dtype=float32_ref>, <tf.Variable 'discriminator/discriminator_global/conv2/bias:0' shape=(64,) dtype=float32_ref>, <tf.Variable 'discriminator/discriminator_global/conv3/kernel:0' shape=(5, 5, 64, 128) dtype=float32_ref>, <tf.Variable 'discriminator/discriminator_global/conv3/bias:0' shape=(128,) dtype=float32_ref>, <tf.Variable 'discriminator/discriminator_global/conv4/kernel:0' shape=(5, 5, 128, 128) dtype=float32_ref>, <tf.Variable 'discriminator/discriminator_global/conv4/bias:0' shape=(128,) dtype=float32_ref>, <tf.Variable 'discriminator/dout_local_fc/kernel:0' shape=(65536, 1) dtype=float32_ref>, <tf.Variable 'discriminator/dout_local_fc/bias:0' shape=(1,) dtype=float32_ref>, <tf.Variable 'discriminator/dout_global_fc/kernel:0' shape=(32768, 1) dtype=float32_ref>, <tf.Variable 'discriminator/dout_global_fc/bias:0' shape=(1,) dtype=float32_ref>]\r\n",
      "\u001B[32m[2022-08-11 20:03:28 @trainer.py:63]\u001B[0m graph_def: <function multigpu_graph_def at 0x7f73586ec1e0>\r\n",
      "\u001B[32m[2022-08-11 20:03:28 @trainer.py:63]\u001B[0m graph_def_kwargs: {'model': <inpaint_model.InpaintCAModel object at 0x7f72ecdbe748>, 'data': <neuralgym.data.data_from_fnames.DataFromFNames object at 0x7f72ecdf7320>, 'config': {}, 'loss_type': 'd'}\r\n",
      "\u001B[32m[2022-08-11 20:03:28 @trainer.py:63]\u001B[0m feed_dict: {}\r\n",
      "\u001B[32m[2022-08-11 20:03:28 @trainer.py:63]\u001B[0m max_iters: 5\r\n",
      "\u001B[32m[2022-08-11 20:03:28 @trainer.py:63]\u001B[0m log_dir: /tmp/neuralgym\r\n",
      "\u001B[32m[2022-08-11 20:03:28 @trainer.py:63]\u001B[0m spe: 1\r\n",
      "\u001B[32m[2022-08-11 20:03:28 @trainer.py:63]\u001B[0m grads_summary: True\r\n",
      "\u001B[32m[2022-08-11 20:03:28 @trainer.py:63]\u001B[0m log_progress: False\r\n",
      "\u001B[32m[2022-08-11 20:03:28 @trainer.py:64]\u001B[0m --------------------------------------------------------------------------------\r\n",
      "\u001B[32m[2022-08-11 20:03:31 @inpaint_model.py:169]\u001B[0m Set batch_predicted to x2.\r\n",
      "\u001B[32m[2022-08-11 20:03:31 @inpaint_ops.py:201]\u001B[0m Use spatial discounting l1 loss.\r\n",
      "\u001B[32m[2022-08-11 20:03:31 @inpaint_ops.py:201]\u001B[0m Use spatial discounting l1 loss.\r\n",
      "Traceback (most recent call last):\r\n",
      "  File \"/home/shady/anaconda3/envs/py37/lib/python3.7/site-packages/tensorflow_core/python/framework/ops.py\", line 1607, in _create_c_op\r\n",
      "    c_op = c_api.TF_FinishOperation(op_desc)\r\n",
      "tensorflow.python.framework.errors_impl.InvalidArgumentError: Dimension 0 in both shapes must be equal, but are 1 and 3. Shapes are [1] and [3]. for 'concat_7' (op: 'ConcatV2') with input shapes: [32,256,256,1], [32,256,256,1], [32,256,256,1], [32,256,256,3], [] and with computed input tensors: input[4] = <2>.\r\n",
      "\r\n",
      "During handling of the above exception, another exception occurred:\r\n",
      "\r\n",
      "Traceback (most recent call last):\r\n",
      "  File \"train.py\", line 100, in <module>\r\n",
      "    log_dir=log_prefix,\r\n",
      "  File \"/home/shady/Desktop/MyRepo/neuralgym/train/trainer.py\", line 41, in __init__\r\n",
      "    self._train_op, self._loss = self.train_ops_and_losses()\r\n",
      "  File \"/home/shady/Desktop/MyRepo/neuralgym/train/trainer.py\", line 250, in train_ops_and_losses\r\n",
      "    loss = self.context['graph_def'](**graph_def_kwargs)\r\n",
      "  File \"train.py\", line 20, in multigpu_graph_def\r\n",
      "    images, config, summary=True, reuse=True)\r\n",
      "  File \"/home/shady/Desktop/MyRepo/inpaint_model.py\", line 197, in build_graph_with_losses\r\n",
      "    tf.concat(viz_img, axis=2),\r\n",
      "  File \"/home/shady/anaconda3/envs/py37/lib/python3.7/site-packages/tensorflow_core/python/util/dispatch.py\", line 180, in wrapper\r\n",
      "    return target(*args, **kwargs)\r\n",
      "  File \"/home/shady/anaconda3/envs/py37/lib/python3.7/site-packages/tensorflow_core/python/ops/array_ops.py\", line 1420, in concat\r\n",
      "    return gen_array_ops.concat_v2(values=values, axis=axis, name=name)\r\n",
      "  File \"/home/shady/anaconda3/envs/py37/lib/python3.7/site-packages/tensorflow_core/python/ops/gen_array_ops.py\", line 1257, in concat_v2\r\n",
      "    \"ConcatV2\", values=values, axis=axis, name=name)\r\n",
      "  File \"/home/shady/anaconda3/envs/py37/lib/python3.7/site-packages/tensorflow_core/python/framework/op_def_library.py\", line 794, in _apply_op_helper\r\n",
      "    op_def=op_def)\r\n",
      "  File \"/home/shady/anaconda3/envs/py37/lib/python3.7/site-packages/tensorflow_core/python/util/deprecation.py\", line 507, in new_func\r\n",
      "    return func(*args, **kwargs)\r\n",
      "  File \"/home/shady/anaconda3/envs/py37/lib/python3.7/site-packages/tensorflow_core/python/framework/ops.py\", line 3357, in create_op\r\n",
      "    attrs, op_def, compute_device)\r\n",
      "  File \"/home/shady/anaconda3/envs/py37/lib/python3.7/site-packages/tensorflow_core/python/framework/ops.py\", line 3426, in _create_op_internal\r\n",
      "    op_def=op_def)\r\n",
      "  File \"/home/shady/anaconda3/envs/py37/lib/python3.7/site-packages/tensorflow_core/python/framework/ops.py\", line 1770, in __init__\r\n",
      "    control_input_ops)\r\n",
      "  File \"/home/shady/anaconda3/envs/py37/lib/python3.7/site-packages/tensorflow_core/python/framework/ops.py\", line 1610, in _create_c_op\r\n",
      "    raise ValueError(str(e))\r\n",
      "ValueError: Dimension 0 in both shapes must be equal, but are 1 and 3. Shapes are [1] and [3]. for 'concat_7' (op: 'ConcatV2') with input shapes: [32,256,256,1], [32,256,256,1], [32,256,256,1], [32,256,256,3], [] and with computed input tensors: input[4] = <2>.\r\n"
     ]
    }
   ],
   "source": [
    "!python train.py"
   ],
   "metadata": {
    "collapsed": false,
    "pycharm": {
     "name": "#%%\n"
    }
   }
  },
  {
   "cell_type": "code",
   "execution_count": null,
   "outputs": [],
   "source": [],
   "metadata": {
    "collapsed": false,
    "pycharm": {
     "name": "#%%\n"
    }
   }
  }
 ],
 "metadata": {
  "kernelspec": {
   "display_name": "Python 3",
   "language": "python",
   "name": "python3"
  },
  "language_info": {
   "codemirror_mode": {
    "name": "ipython",
    "version": 2
   },
   "file_extension": ".py",
   "mimetype": "text/x-python",
   "name": "python",
   "nbconvert_exporter": "python",
   "pygments_lexer": "ipython2",
   "version": "2.7.6"
  }
 },
 "nbformat": 4,
 "nbformat_minor": 0
}